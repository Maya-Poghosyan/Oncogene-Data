{
  "cells": [
    {
      "cell_type": "markdown",
      "metadata": {
        "id": "view-in-github",
        "colab_type": "text"
      },
      "source": [
        "<a href=\"https://colab.research.google.com/github/Maya-Poghosyan/Rosalind-Solutions/blob/main/Rosalind.ipynb\" target=\"_parent\"><img src=\"https://colab.research.google.com/assets/colab-badge.svg\" alt=\"Open In Colab\"/></a>"
      ]
    },
    {
      "cell_type": "markdown",
      "source": [
        "# Rosalind Problems"
      ],
      "metadata": {
        "id": "XnEjC3x_cI1J"
      }
    },
    {
      "cell_type": "markdown",
      "source": [
        "**Problem 4**\n",
        "\n",
        "The population begins in the first month with a pair of newborn rabbits.\n",
        "\n",
        "Rabbits reach reproductive age after one month.\n",
        "\n",
        "In any given month, every rabbit of reproductive age mates with another rabbit of reproductive age.\n",
        "\n",
        "Exactly one month after two rabbits mate, they produce one male and one female rabbit.\n",
        "\n",
        "Rabbits never die or stop reproducing.\n",
        "\n",
        "**Return: The total number of rabbit pairs that will be present after n months, if we begin with 1 pair and in each generation, every pair of reproduction-age rabbits produces a litter of k rabbit pairs (instead of only 1 pair).**\n"
      ],
      "metadata": {
        "id": "JDqhjvAjcBL7"
      }
    },
    {
      "cell_type": "code",
      "execution_count": null,
      "metadata": {
        "id": "KeGmgejcVJi5"
      },
      "outputs": [],
      "source": [
        "list_nums = \"28 2\".split(\" \")\n",
        "list_nums = [int(i) for i in list_nums]\n",
        "print(list_nums)\n",
        "n = list_nums[0]\n",
        "k = list_nums[1]\n",
        "print(n)\n",
        "print(k)"
      ]
    },
    {
      "cell_type": "code",
      "source": [
        "# n is number of months, k is number of pairs per mature couple\n",
        "def rabbits(n,k):\n",
        "  old_pairs = 0\n",
        "  new_pairs = 1\n",
        "  new_adults = 0\n",
        "  for i in range(n-1):\n",
        "    new_adults = old_pairs + new_pairs\n",
        "    new_pairs = k*old_pairs\n",
        "    old_pairs = new_adults\n",
        "    print(new_pairs+old_pairs)\n",
        "\n",
        "rabbits(29,5)\n",
        "# prints 1850229480761"
      ],
      "metadata": {
        "id": "cnZkmy_DZ9ok"
      },
      "execution_count": null,
      "outputs": []
    },
    {
      "cell_type": "markdown",
      "source": [
        "**Problem 5**: Computing GC content"
      ],
      "metadata": {
        "id": "1hkUNtNl5r0e"
      }
    },
    {
      "cell_type": "code",
      "source": [
        "!pip install Bio\n",
        "import Bio"
      ],
      "metadata": {
        "id": "Yn2aWUYb50-N"
      },
      "execution_count": null,
      "outputs": []
    },
    {
      "cell_type": "code",
      "source": [
        "GCS = []\n",
        "with open(\"rosalind_gc (1).txt\",\"r\")as fa:\n",
        "  for record in SeqIO.parse(fa,\"fasta\"):\n",
        "    gc = GC(record.seq)\n",
        "    GCS.append((gc, str(record.name)))\n",
        "    gcs.sort()"
      ],
      "metadata": {
        "id": "qhuRo0sA-c1F"
      },
      "execution_count": 33,
      "outputs": []
    },
    {
      "cell_type": "code",
      "source": [
        "GCS"
      ],
      "metadata": {
        "colab": {
          "base_uri": "https://localhost:8080/"
        },
        "id": "Fp1lMj53_o2G",
        "outputId": "3c3176b8-f3d2-4a71-c032-8cbeff164a4a"
      },
      "execution_count": 34,
      "outputs": [
        {
          "output_type": "execute_result",
          "data": {
            "text/plain": [
              "[(49.68789013732834, 'Rosalind_1490'),\n",
              " (51.10410094637224, 'Rosalind_4096'),\n",
              " (52.11581291759465, 'Rosalind_2679'),\n",
              " (49.69770253929867, 'Rosalind_1425'),\n",
              " (48.02139037433155, 'Rosalind_6717'),\n",
              " (51.19047619047619, 'Rosalind_6264'),\n",
              " (50.470219435736674, 'Rosalind_2457'),\n",
              " (48.78854625550661, 'Rosalind_8144'),\n",
              " (48.35390946502058, 'Rosalind_1851'),\n",
              " (49.22760041194645, 'Rosalind_8421')]"
            ]
          },
          "metadata": {},
          "execution_count": 34
        }
      ]
    },
    {
      "cell_type": "code",
      "source": [
        "print(f\"Highest content is {round(52.11581291759465, 6)}.\")"
      ],
      "metadata": {
        "colab": {
          "base_uri": "https://localhost:8080/"
        },
        "id": "TMeo90JpAV2E",
        "outputId": "40433456-b582-4281-926c-d3442bd07a3f"
      },
      "execution_count": 37,
      "outputs": [
        {
          "output_type": "stream",
          "name": "stdout",
          "text": [
            "Highest content is 52.115813.\n"
          ]
        }
      ]
    },
    {
      "cell_type": "markdown",
      "source": [
        "**Problem 6:** Hamming Distance"
      ],
      "metadata": {
        "id": "QrMt7M1eDSIn"
      }
    },
    {
      "cell_type": "code",
      "source": [
        "str1 = \"GTGTGTTGAGACATCCAGGGATCCGGTGTAGTAGATAGATCACGATTTTAACCCAACCTTCTGAATGGCCGGGCTACCAATTGAGAACGACTTTATACCGACCCAGTGCTCGTGCAAGTCTATGTGATGCGATTAAAACCTTGACATTTTGAGGGCGGCGTTGGGATGTGGCACTCCAATGCCCGCCAAGCTACGACGAGGATCGTTTTATGACAGTAGTTATCTACGCTACCGGTCGAGCCAAACGGAGCTCTCAGAATGCGCGGACTCTTACAACCAAGTTTTGGAATCTCGGGACATGGGGGAAAGATCGAAGTCCCGAACACATATACAACCCCTTTTGCCAGGCAATCAACTCTGCCCTATGGTCCCGCCCTTGGCATATCGTAGAAGTGCCCTATGGCAGAAAACACGTAAACGTGAATTTGGGACGGTTCCTGTAGACGGTGAGTAACAGTCTTCAGTTTGGCGATAGGTATGTTGTCTAGCGAGACGCGACCGCGCTATGCGAGATGCGCCCGTCCAGAGAGGCATTCACCAGGTGGCCCTAAGGGAGACCCTTGATAGTAAGCTGGCCCGCGCGGCCCTGAGTAATCTTAGCCCGTCGACCTAGTGTCCTGAATACGGCCCACCACACAGCCGTCCTTCACAGATCAAACTGCTCCATACTGCGCGCATCGTCGCCCACTGTTGATGATCTGGGGCCACCACCTCCTCTCTGATCGATGTTTCGCGCCGCAGCCGTGCCGGTCAAGCGGGGTTCGTCTAACCTGCGGCACCATCCCGTGATTTCGTAAGCCAATAGTGATACCATCATTTCTCACCTTAAGCTTGGAACCGGACTCGCAAGGTCCGTCCTGGGCAGGTAGATTCAAAGGAGGAGGGCAAGCTTTCATTGAGACGTCACAGATCGGATCACGGCGCTGGGGCTTGCCCCCTCTCGGCCTG\"\n",
        "str2 = \"CGTTTTTGAGAACTTACAAACTCCAGCAATGAACGTACAACCTAATTGGGACCCAAGCATCCGATTCAGCGGGCTCGCGTTTTCGAAAGCCACGGTACCGAGGGCGAACTGGTATAACTGCACGAGGTACGCTCCAAATGTCGACATTTTGGGGGAGAATATGGTGGCGTGAATTCCGGGCCCGGAGTAGCTCATCGAACACTGGCACTGTCACACGAAATTTATCAGAACACCGTTGCAAGACAGGATTTCACAAGTTTACGCGGATTCTGATGTTCTTATCCCGTATGTGCGTGAGGTGGGTCGAAGAACCGTGAGCAGAATGCGAGTCTAATCGTATTTCGCTAGCAAGAGGATGTGCCCGAAGCACCTGGCAAAGGTCCGAAGTAGATAGGGCACAAGCCTGAAAACACGTTTTCGTGGACTTCAGACGGGTCAGGTAGCCGCTCGTAATGCTTGATGACAGAGGCGATGGGGCACATGTAGACTGAAGGGCGACCATCTGGTGGGTTAAACCCCCGCTTATTAAGGTGTTCCACAAGATGCGCTCATACAAACGCGTGATAGTCCGCTGCCGCACACCGCCGGGATGATTCGTCGTCACTCAAAATTGACGACAGAATACCGCCAGTTGGAACGGCTTCTTTGCCTAATTTGACAGGTCGGCATTCAAGTGTTGATCGACTCAAAGCAATTGAGAGGGTCGATCTCATTGGCTCTGACCACTATAACTGTCGGACGCGGTTGCTGATACGTAATGTCCGTTTAACCTTCCGACCCGTTTAGGTTGTTCACCGTGTGTCGGCCATTGTCTAACCCCGATCCTTAATTAATCTACCGGAGCAGAACGGTCCGAGCTGATTAGGTAGCATCAAATGTAGATGCCATGTGGTCGTTCTCCTAGGTTGGATTGGGTCTCTGGGTTATTGCGTGAATTTACTCGTACCG\"\n",
        "h_dist = 0\n",
        "def dist(dna_1,dna_2):\n",
        "  global h_dist\n",
        "  for i in range(len(dna_1)):\n",
        "    if dna_1[i] != dna_2[i]:\n",
        "      h_dist += 1\n",
        "  return(h_dist)\n",
        "dist(str1,str2)"
      ],
      "metadata": {
        "colab": {
          "base_uri": "https://localhost:8080/"
        },
        "id": "BaFd76muDoBQ",
        "outputId": "926bd981-fce5-4fdc-bed0-adc091c274eb"
      },
      "execution_count": 42,
      "outputs": [
        {
          "output_type": "execute_result",
          "data": {
            "text/plain": [
              "488"
            ]
          },
          "metadata": {},
          "execution_count": 42
        }
      ]
    },
    {
      "cell_type": "markdown",
      "source": [
        "**Problem 7:** Calculating reproductive chances"
      ],
      "metadata": {
        "id": "JKv1UURVF2L4"
      }
    },
    {
      "cell_type": "code",
      "source": [
        "# k = homo dom, m = heterozygous, n = homo rec\n",
        "def dom_prob(k,m,n):\n",
        "  prob_k = k/(k+m+n)\n",
        "  prob_m = m/(k+m+n)\n",
        "  prob_n = n/(k+m+n)\n",
        "  prob_k_pass = prob_k * 1\n",
        "  prob_m_pass = prob_m * 0.5\n",
        "  prob_n_pass = 0\n",
        "  return prob_k_pass + prob_m_pass + prob_n_pass\n",
        "dom_prob(2,2,2)"
      ],
      "metadata": {
        "colab": {
          "base_uri": "https://localhost:8080/"
        },
        "id": "AfzPWrWVGhtR",
        "outputId": "6a5df734-da99-461a-a72d-7bb252df64b9"
      },
      "execution_count": 45,
      "outputs": [
        {
          "output_type": "execute_result",
          "data": {
            "text/plain": [
              "0.5"
            ]
          },
          "metadata": {},
          "execution_count": 45
        }
      ]
    }
  ],
  "metadata": {
    "colab": {
      "name": "Rosalind.ipynb",
      "provenance": [],
      "collapsed_sections": [],
      "authorship_tag": "ABX9TyPdsR28uHPK0hUIcJsIU33s",
      "include_colab_link": true
    },
    "kernelspec": {
      "display_name": "Python 3",
      "name": "python3"
    },
    "language_info": {
      "name": "python"
    }
  },
  "nbformat": 4,
  "nbformat_minor": 0
}